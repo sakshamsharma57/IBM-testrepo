{
 "cells": [
  {
   "cell_type": "markdown",
   "id": "f1ccf30c-956e-4bef-816d-1df9c30d1bff",
   "metadata": {
    "tags": []
   },
   "source": [
    "# Data Science Tools and Ecosystem"
   ]
  },
  {
   "cell_type": "markdown",
   "id": "8351f4af-13a1-476f-9a8c-0b7ff6bbc34b",
   "metadata": {},
   "source": [
    "## Indtroduction\n",
    "In this notebook, an overview and summary of various Data Science tools and the ecosystem are provided. Explore the key tools and technologies that contribute to the vibrant field of Data Science.\n"
   ]
  },
  {
   "cell_type": "markdown",
   "id": "bff552c9-cb5a-409e-a3cb-51fd0d411c85",
   "metadata": {
    "tags": []
   },
   "source": [
    "Some of the popular languages that Data Scientists use are:\n",
    "\n",
    "1. Python\n",
    "2. R\n",
    "3. Julia"
   ]
  },
  {
   "cell_type": "markdown",
   "id": "64d3f1c8-6f25-4465-9334-b4adf9bcfdde",
   "metadata": {},
   "source": [
    "Some of the commonly used libraries used by Data Scientists include:\n",
    "\n",
    "1. NumPy\n",
    "2. Pandas\n",
    "3. Scikit-learn"
   ]
  },
  {
   "cell_type": "markdown",
   "id": "b72412b3-2a6d-439a-8a1a-186d00c2d497",
   "metadata": {},
   "source": [
    "\n",
    "| Data Science Tools      |\n",
    "|-------------------------|\n",
    "| Jupyter Notebook        |\n",
    "| RStudio                 |\n",
    "| VS Code with Python ext.|"
   ]
  },
  {
   "cell_type": "markdown",
   "id": "abe9f985-a845-42c6-b3a8-997d370ef158",
   "metadata": {},
   "source": [
    "### Below are a few examples of evaluating arithmetic expressions in Python"
   ]
  },
  {
   "cell_type": "code",
   "execution_count": 3,
   "id": "ab723539-a9c2-494f-abdf-14a07bc15e7d",
   "metadata": {
    "tags": []
   },
   "outputs": [
    {
     "data": {
      "text/plain": [
       "17"
      ]
     },
     "execution_count": 3,
     "metadata": {},
     "output_type": "execute_result"
    }
   ],
   "source": [
    "# This is a simple arithmetic expression to multiply then add integers.\n",
    "result = (3 * 4) + 5\n",
    "result"
   ]
  },
  {
   "cell_type": "code",
   "execution_count": 4,
   "id": "3604870f-3ae6-4f8e-9fd1-12d4d18d0d30",
   "metadata": {
    "tags": []
   },
   "outputs": [
    {
     "data": {
      "text/plain": [
       "3.3333333333333335"
      ]
     },
     "execution_count": 4,
     "metadata": {},
     "output_type": "execute_result"
    }
   ],
   "source": [
    "# This will convert 200 minutes to hours by dividing by 60.\n",
    "hours = 200 / 60\n",
    "hours"
   ]
  },
  {
   "cell_type": "markdown",
   "id": "0ca7bca4-a7cb-4ee4-9c28-fa5287420d4f",
   "metadata": {},
   "source": [
    "**Objectives:**\n",
    "\n",
    "- List popular languages for Data Science.\n",
    "- Explore common libraries used in Data Science.\n",
    "- Understand basic arithmetic operations in Python.\n",
    "- Familiarize with popular Data Science development environments."
   ]
  },
  {
   "cell_type": "markdown",
   "id": "b62e4a40-0bf0-476e-8c13-a1b567934e1d",
   "metadata": {},
   "source": [
    "## Author\n",
    "\n",
    "SAKSHAM SHARMA"
   ]
  },
  {
   "cell_type": "code",
   "execution_count": null,
   "id": "d08ceed8-bc0c-4f3b-85cb-32d0f11e6038",
   "metadata": {},
   "outputs": [],
   "source": []
  }
 ],
 "metadata": {
  "kernelspec": {
   "display_name": "Python 3 (ipykernel)",
   "language": "python",
   "name": "python3"
  },
  "language_info": {
   "codemirror_mode": {
    "name": "ipython",
    "version": 3
   },
   "file_extension": ".py",
   "mimetype": "text/x-python",
   "name": "python",
   "nbconvert_exporter": "python",
   "pygments_lexer": "ipython3",
   "version": "3.11.5"
  }
 },
 "nbformat": 4,
 "nbformat_minor": 5
}
